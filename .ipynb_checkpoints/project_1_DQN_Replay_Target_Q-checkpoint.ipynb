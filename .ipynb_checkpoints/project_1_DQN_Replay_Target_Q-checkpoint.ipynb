{
 "cells": [
  {
   "cell_type": "code",
   "execution_count": 1,
   "id": "bearing-collectible",
   "metadata": {},
   "outputs": [],
   "source": [
    "from unityagents import UnityEnvironment\n",
    "import numpy as np"
   ]
  },
  {
   "cell_type": "code",
   "execution_count": 2,
   "id": "express-brief",
   "metadata": {
    "scrolled": true
   },
   "outputs": [
    {
     "name": "stderr",
     "output_type": "stream",
     "text": [
      "INFO:unityagents:\n",
      "'Academy' started successfully!\n",
      "Unity Academy name: Academy\n",
      "        Number of Brains: 1\n",
      "        Number of External Brains : 1\n",
      "        Lesson number : 0\n",
      "        Reset Parameters :\n",
      "\t\t\n",
      "Unity brain name: BananaBrain\n",
      "        Number of Visual Observations (per agent): 0\n",
      "        Vector Observation space type: continuous\n",
      "        Vector Observation space size (per agent): 37\n",
      "        Number of stacked Vector Observation: 1\n",
      "        Vector Action space type: discrete\n",
      "        Vector Action space size (per agent): 4\n",
      "        Vector Action descriptions: , , , \n"
     ]
    }
   ],
   "source": [
    "env = UnityEnvironment(file_name=\"Banana2.app\")"
   ]
  },
  {
   "cell_type": "code",
   "execution_count": 3,
   "id": "brilliant-freeze",
   "metadata": {},
   "outputs": [
    {
     "name": "stdout",
     "output_type": "stream",
     "text": [
      "BananaBrain\n"
     ]
    }
   ],
   "source": [
    "#Get the Default Brain\n",
    "brain_name = env.brain_names[0]\n",
    "print(brain_name)"
   ]
  },
  {
   "cell_type": "code",
   "execution_count": 4,
   "id": "circular-semiconductor",
   "metadata": {},
   "outputs": [
    {
     "name": "stdout",
     "output_type": "stream",
     "text": [
      "Unity brain name: BananaBrain\n",
      "        Number of Visual Observations (per agent): 0\n",
      "        Vector Observation space type: continuous\n",
      "        Vector Observation space size (per agent): 37\n",
      "        Number of stacked Vector Observation: 1\n",
      "        Vector Action space type: discrete\n",
      "        Vector Action space size (per agent): 4\n",
      "        Vector Action descriptions: , , , \n"
     ]
    }
   ],
   "source": [
    "brain = env.brains[brain_name]\n",
    "print(brain)"
   ]
  },
  {
   "cell_type": "code",
   "execution_count": 5,
   "id": "ready-cigarette",
   "metadata": {},
   "outputs": [
    {
     "name": "stdout",
     "output_type": "stream",
     "text": [
      "<unityagents.brain.BrainInfo object at 0x7fad18bfde10>\n"
     ]
    }
   ],
   "source": [
    "env_info = env.reset(train_mode=True)[brain_name]\n",
    "print(env_info)"
   ]
  },
  {
   "cell_type": "code",
   "execution_count": 6,
   "id": "satellite-china",
   "metadata": {},
   "outputs": [],
   "source": [
    "import pprint as pp\n"
   ]
  },
  {
   "cell_type": "code",
   "execution_count": 7,
   "id": "chief-swaziland",
   "metadata": {},
   "outputs": [
    {
     "name": "stdout",
     "output_type": "stream",
     "text": [
      "Total number of States : 37\n",
      "Total number of Actions : 4\n",
      "Total number of Agents : 1\n",
      "State Looks Like: \n",
      "array([1.        , 0.        , 0.        , 0.        , 0.84408134,\n",
      "       0.        , 0.        , 1.        , 0.        , 0.0748472 ,\n",
      "       0.        , 1.        , 0.        , 0.        , 0.25755   ,\n",
      "       1.        , 0.        , 0.        , 0.        , 0.74177343,\n",
      "       0.        , 1.        , 0.        , 0.        , 0.25854847,\n",
      "       0.        , 0.        , 1.        , 0.        , 0.09355672,\n",
      "       0.        , 1.        , 0.        , 0.        , 0.31969345,\n",
      "       0.        , 0.        ])\n"
     ]
    }
   ],
   "source": [
    "# Fetching the number of states and actions\n",
    "number_of_states = brain.vector_observation_space_size\n",
    "number_of_actions = brain.vector_action_space_size\n",
    "number_of_agents = len(env_info.agents)\n",
    "# checking the total number of states and action\n",
    "print('Total number of States : {}'.format(number_of_states)) \n",
    "print('Total number of Actions : {}'.format(number_of_actions))\n",
    "print('Total number of Agents : {}'.format(number_of_agents))\n",
    "\n",
    "#Examine the State Space\n",
    "state = env_info.vector_observations[0]\n",
    "print(\"State Looks Like: \")\n",
    "pp.pprint(state)"
   ]
  },
  {
   "cell_type": "code",
   "execution_count": 8,
   "id": "latter-amino",
   "metadata": {},
   "outputs": [],
   "source": [
    "#importing the required Library\n",
    "import gym\n",
    "import matplotlib.pyplot as plt\n",
    "import torch\n",
    "import torch.nn as nn\n",
    "from torch import optim\n",
    "import numpy as np\n",
    "import random \n",
    "\n",
    "\n",
    "import math"
   ]
  },
  {
   "cell_type": "code",
   "execution_count": 9,
   "id": "exceptional-knight",
   "metadata": {},
   "outputs": [
    {
     "name": "stdout",
     "output_type": "stream",
     "text": [
      "cpu\n"
     ]
    }
   ],
   "source": [
    "#Selecting the available device (cpu/gpu)\n",
    "use_cuda = torch.cuda.is_available()\n",
    "device = torch.device(\"cuda:0\" if use_cuda else \"cpu\")\n",
    "print(device)"
   ]
  },
  {
   "cell_type": "code",
   "execution_count": 37,
   "id": "french-acrylic",
   "metadata": {},
   "outputs": [],
   "source": [
    "NUMBER_OF_EPISODES = 500 #700\n",
    "MAX_STEPS = 1000 #1000\n",
    "LEARNING_RATE = 0.01\n",
    "DISCOUNT_FACTOR = 0.99\n",
    "HIDDEN_LAYER_SIZE = 64\n",
    "\n",
    "EGREEDY = 0.9\n",
    "EGREEDY_FINAL = 0.02\n",
    "EGREEDY_DECAY = 500\n",
    "\n",
    "REPLAY_BUFFER_SIZE = 6000\n",
    "BATCH_SIZE = 32\n",
    "\n",
    "UPDATE_TARGET_FREQUENCY = 200"
   ]
  },
  {
   "cell_type": "code",
   "execution_count": 38,
   "id": "deadly-vienna",
   "metadata": {},
   "outputs": [],
   "source": [
    "def calculate_epsilon(steps_done):\n",
    "    \"\"\"\n",
    "    Decays eplison with increasing steps\n",
    "    Parameter:\n",
    "    steps_done (int) : number of steps completed\n",
    "    Returns:\n",
    "    int - decayed epsilon\n",
    "    \"\"\"\n",
    "    epsilon = EGREEDY_FINAL + (EGREEDY - EGREEDY_FINAL) * \\\n",
    "              math.exp(-1. * steps_done / EGREEDY_DECAY )\n",
    "    return epsilon"
   ]
  },
  {
   "cell_type": "code",
   "execution_count": 39,
   "id": "vital-kitty",
   "metadata": {},
   "outputs": [],
   "source": [
    "# Deep Q Network Model Archietecture\n",
    "\n",
    "class DQN(nn.Module):\n",
    "    def __init__(self , hidden_layer_size):\n",
    "        super().__init__()\n",
    "        self.hidden_layer_size = hidden_layer_size\n",
    "        self.fc1 = nn.Linear(number_of_states,self.hidden_layer_size)\n",
    "        self.fc2 = nn.Linear(self.hidden_layer_size,number_of_actions)\n",
    "\n",
    "    def forward(self, x):\n",
    "        output = torch.tanh(self.fc1(x))\n",
    "        output = self.fc2(output)\n",
    "        return output"
   ]
  },
  {
   "cell_type": "code",
   "execution_count": 40,
   "id": "veterinary-slide",
   "metadata": {},
   "outputs": [],
   "source": [
    "class ExperienceReplay(object):\n",
    "    def __init__(self, capacity):\n",
    "        \n",
    "        self.capacity = capacity\n",
    "        self.buffer = []\n",
    "        self.pointer = 0\n",
    "        \n",
    "    def push(self, state, action, new_state, reward, done):\n",
    "        experience = (state, action, new_state, reward, done)\n",
    "        if self.pointer >= len(self.buffer):\n",
    "            self.buffer.append(experience)\n",
    "        else:\n",
    "            self.buffer[self.pointer] = experience\n",
    "            \n",
    "        self.pointer = (self.pointer + 1) % self.capacity\n",
    "        \n",
    "    def sample(self, batch_size):\n",
    "        return zip(*random.sample(self.buffer, batch_size))\n",
    "    \n",
    "    def __len__(self):\n",
    "        return len(self.buffer)"
   ]
  },
  {
   "cell_type": "code",
   "execution_count": null,
   "id": "specific-pakistan",
   "metadata": {},
   "outputs": [],
   "source": [
    "memory = ExperienceReplay(REPLAY_BUFFER_SIZE)"
   ]
  },
  {
   "cell_type": "code",
   "execution_count": 41,
   "id": "regional-rebecca",
   "metadata": {},
   "outputs": [],
   "source": [
    "# Building the brain of the network i.e. the DQN Agent\n",
    "\n",
    "class DQN_Agent(object):\n",
    "    def __init__(self):\n",
    "        self.dqn = DQN(HIDDEN_LAYER_SIZE).to(device)\n",
    "    \n",
    "        self.criterion = torch.nn.MSELoss()\n",
    "    \n",
    "        self.optimizer = optim.Adam(params=self.dqn.parameters() , lr=LEARNING_RATE)\n",
    "        \n",
    "    def select_action(self,state,EGREEDY):\n",
    "        random_for_egreedy = torch.rand(1)[0]\n",
    "    \n",
    "        if random_for_egreedy > EGREEDY:\n",
    "            with torch.no_grad():\n",
    "                state = torch.Tensor(state).to(device)\n",
    "                q_values = self.dqn(state)\n",
    "                action = torch.max(q_values,0)[1]\n",
    "                action = action.item()        \n",
    "        else:\n",
    "            action = np.random.randint(4) \n",
    "    \n",
    "        return action\n",
    "  \n",
    "    def optimize(self, state, action, new_state, reward, done):\n",
    "        state = torch.Tensor(state).to(device)\n",
    "        new_state = torch.Tensor(new_state).to(device)\n",
    "    \n",
    "        reward = torch.Tensor([reward]).to(device)\n",
    "    \n",
    "        if done:\n",
    "            target_value = reward\n",
    "        else:\n",
    "            new_state_values = self.dqn(new_state).detach()\n",
    "            max_new_state_values = torch.max(new_state_values)\n",
    "            target_value = reward + DISCOUNT_FACTOR * max_new_state_values\n",
    "\n",
    "        predicted_value = self.dqn(state)[action].view(-1)\n",
    "\n",
    "        loss = self.criterion(predicted_value, target_value)\n",
    "\n",
    "        self.optimizer.zero_grad()\n",
    "        loss.backward()\n",
    "        self.optimizer.step()"
   ]
  },
  {
   "cell_type": "code",
   "execution_count": 42,
   "id": "threaded-vault",
   "metadata": {},
   "outputs": [],
   "source": [
    "# Instantiating the DQN Agent\n",
    "dqn_agent = DQN_Agent()"
   ]
  },
  {
   "cell_type": "code",
   "execution_count": 43,
   "id": "injured-amplifier",
   "metadata": {},
   "outputs": [],
   "source": [
    "env_info = env.reset(train_mode=True)[brain_name] # reset the environment\n",
    "#state = env_info.vector_observations[0] \n",
    "steps_total = []\n",
    "steps_counter = 0\n",
    "for episode in range(NUMBER_OF_EPISODES):\n",
    "    env_info = env.reset(train_mode=True)[brain_name]\n",
    "    state = env_info.vector_observations[0]\n",
    "    done = False\n",
    "    step = 0\n",
    "    score = 0\n",
    "    for i in range(MAX_STEPS):\n",
    "        step += 1\n",
    "        steps_counter += 1\n",
    "        #print(steps_total)\n",
    "        #print(step)\n",
    "      \n",
    "        EGREEDY = calculate_epsilon(steps_counter)\n",
    "\n",
    "        action = dqn_agent.select_action(state, EGREEDY)\n",
    "          \n",
    "        env_info = env.step(action)[brain_name]\n",
    "        \n",
    "        new_state = env_info.vector_observations[0]\n",
    "        #print(new_state) # get the next state\n",
    "        reward = env_info.rewards[0]\n",
    "        #print(reward)\n",
    "        # get the reward\n",
    "        done = env_info.local_done[0]\n",
    "        #print(done)\n",
    "        # see if episode has finished\n",
    "                       # update the score\n",
    "        score += reward \n",
    "        #print(score)\n",
    "        dqn_agent.optimize(state, action, new_state, reward, done)\n",
    "      \n",
    "        state = new_state\n",
    "        #print(state)\n",
    "\n",
    "        if done:\n",
    "            #print(done)\n",
    "            steps_total.append(score)\n",
    "            break\n",
    "    "
   ]
  },
  {
   "cell_type": "code",
   "execution_count": 44,
   "id": "twenty-generic",
   "metadata": {},
   "outputs": [
    {
     "name": "stdout",
     "output_type": "stream",
     "text": [
      "Average reward: 10.52\n",
      "Average reward (last 100 episodes): 12.49\n"
     ]
    }
   ],
   "source": [
    "print(\"Average reward: %.2f\" % (sum(steps_total)/NUMBER_OF_EPISODES))\n",
    "print(\"Average reward (last 100 episodes): %.2f\" % (sum(steps_total[-100:])/100))"
   ]
  },
  {
   "cell_type": "code",
   "execution_count": 45,
   "id": "finished-delhi",
   "metadata": {},
   "outputs": [
    {
     "data": {
      "image/png": "[encoded data removed]",
      "text/plain": [
       "<Figure size 864x360 with 1 Axes>"
      ]
     },
     "metadata": {
      "needs_background": "light"
     },
     "output_type": "display_data"
    }
   ],
   "source": [
    "plt.figure(figsize=(12,5))\n",
    "plt.title(\"Rewards Collected\")\n",
    "plt.bar(np.arange(len(steps_total)), steps_total, alpha=0.5, color='green')\n",
    "plt.show()"
   ]
  },
  {
   "cell_type": "code",
   "execution_count": 63,
   "id": "characteristic-electron",
   "metadata": {},
   "outputs": [
    {
     "data": {
      "text/plain": [
       "Text(0, 0.5, 'Episode Reward')"
      ]
     },
     "execution_count": 63,
     "metadata": {},
     "output_type": "execute_result"
    },
    {
     "data": {
      "image/png": "[encoded data removed]",
      "text/plain": [
       "<Figure size 864x360 with 1 Axes>"
      ]
     },
     "metadata": {
      "needs_background": "light"
     },
     "output_type": "display_data"
    }
   ],
   "source": [
    "# plot stats\n",
    "def get_running_stat(stat, stat_len):\n",
    "    cum_sum = np.cumsum(np.insert(stat, 0, 0)) \n",
    "    return (cum_sum[stat_len:] - cum_sum[:-stat_len]) / stat_len\n",
    "\n",
    "#episode, r, l = np.array(stats_rewards_list).T\n",
    "cum_r = get_running_stat(steps_total, 10)\n",
    "cum_l = get_running_stat(np.arange(len(steps_total)), 10)\n",
    "\n",
    "plt.figure(figsize=(12,5))\n",
    "plt.title(\"Rewards Collected\")\n",
    "# plot rewards\n",
    "plt.plot(cum_l, cum_r)\n",
    "plt.xlabel('Episode')\n",
    "plt.ylabel('Episode Reward')"
   ]
  },
  {
   "cell_type": "code",
   "execution_count": 61,
   "id": "endless-shelf",
   "metadata": {},
   "outputs": [],
   "source": [
    "env.close()"
   ]
  },
  {
   "cell_type": "code",
   "execution_count": null,
   "id": "bound-bowling",
   "metadata": {},
   "outputs": [],
   "source": []
  },
  {
   "cell_type": "code",
   "execution_count": null,
   "id": "recognized-trader",
   "metadata": {},
   "outputs": [],
   "source": []
  }
 ],
 "metadata": {
  "kernelspec": {
   "display_name": "drlnd",
   "language": "python",
   "name": "drlnd"
  },
  "language_info": {
   "codemirror_mode": {
    "name": "ipython",
    "version": 3
   },
   "file_extension": ".py",
   "mimetype": "text/x-python",
   "name": "python",
   "nbconvert_exporter": "python",
   "pygments_lexer": "ipython3",
   "version": "3.6.12"
  }
 },
 "nbformat": 4,
 "nbformat_minor": 5
}
